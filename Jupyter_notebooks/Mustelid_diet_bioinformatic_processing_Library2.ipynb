{
 "cells": [
  {
   "cell_type": "markdown",
   "metadata": {},
   "source": [
    "# Mustelid diet metabarcoding data processing"
   ]
  },
  {
   "cell_type": "markdown",
   "metadata": {},
   "source": [
    "I will use [metaBEAT](https://github.com/HullUni-bioinformatics/metaBEAT), a tool tailored towards reproducible and efficient analyses of metabarcoding data that was developed by Christoph Hahn (University of Graz) for the EvoHull group at University of Hull. The pipeline is still under active development and will likely be extended further in the future. The pipeline is available in a Docker container with all necessary dependencies. The Docker image builds on [ReproPhylo](https://github.com/HullUni-bioinformatics/ReproPhylo).\n",
    "\n",
    "The data I will be analyzing are 12S rRNA sequences amplified from mammal faecal samples collected from three sites across northern and eastern England: River Hull, River Glaven, and Malham Tarn. The experiment was designed to investigate the potential of faecal DNA metabarcoding to assess diet of the native European otter (*Lutra lutra*) and the invasive American mink (*Neovison vison*), and whether niche partitioning has occurred.\n",
    "\n",
    "metaBEAT is designed for complete bioinformatic analysis from raw data, and performs (optionally) demultiplexing, quality filtering, chimera detection, clustering, and taxononomic assignment (outputs in biom and tsv formats). It currently supports BLAST, Kraken and phylogenetic placement (pplacer). Further approaches will be included in the future to allow for efficient and standardized comparative assessments of all approaches. A large number of options are offered at each step of the pipeline to tailor bioinformatic analysis to different projects."
   ]
  },
  {
   "cell_type": "markdown",
   "metadata": {},
   "source": [
    "# Data input"
   ]
  },
  {
   "cell_type": "markdown",
   "metadata": {},
   "source": [
    "This notebook will perform basic processing (trimming, merging, chimera removal, clustering and taxonomic assignment) of the metabarcoding data.\n",
    "\n",
    "Minimum input for an analysis is a set of query sequences in one or several files (accepted are a number of file formats, e.g. fasta, fastq). These will be run through the pipeline sequentially.\n",
    "\n",
    "Information on the nature and location of the query sequence files must be provided in a separate tab-delimited text file via the -Q flags.\n",
    "\n",
    "Each line in this text file should look as follows: unique sample_ID, format, file1, file2\n",
    "\n",
    "The required text files can be generated in any text editor. So theoretically, nano could be used in the terminal to construct the text file. For reproducibility and ease, a simple program can be used to generate the required file.\n",
    "\n",
    "In the cell below, it is produced using a simple python script. The script will list all files in the location to which you've downloaded your Illumina data (specified via the 'datadir' variable). It assumes that there is a file ending in _R1.fastq for each sample. For each such file, it will extract the sample name from the filename and format the required line for the text file accordingly. The resulting file is called Querymap.txt (specified in the 'to' variable)."
   ]
  },
  {
   "cell_type": "code",
   "execution_count": null,
   "metadata": {
    "collapsed": false
   },
   "outputs": [],
   "source": [
    "!pwd"
   ]
  },
  {
   "cell_type": "code",
   "execution_count": null,
   "metadata": {
    "collapsed": true
   },
   "outputs": [],
   "source": [
    "!mkdir 1-trimming"
   ]
  },
  {
   "cell_type": "code",
   "execution_count": null,
   "metadata": {
    "collapsed": false
   },
   "outputs": [],
   "source": [
    "cd 1-trimming"
   ]
  },
  {
   "cell_type": "code",
   "execution_count": null,
   "metadata": {
    "collapsed": false
   },
   "outputs": [],
   "source": [
    "!ls -1 ../raw_reads/"
   ]
  },
  {
   "cell_type": "markdown",
   "metadata": {},
   "source": [
    "Prepare a text file specifying the samples to be processed including the format and location of the reads i.e. the querymap.\n",
    "\n",
    "The next command expects two fastq files (forward and reverse reads) per sample in the directory ```../raw_reads/```. It expects the files to be named 'SampleID', followed by '_R1' or '_R2' to identify the forward/reverse read file respectively.\n",
    "\n",
    "The raw data have been downloaded and demultiplexed. They can be found in `../raw_reads`.\n",
    "\n",
    "SampleID must correspond to the first column in a file called `Sample_accessions.tsv`. This will either be pre-made to correspond to downloading read data from the NCBI Sequence Read Archive, or you will have to make it. The marker is '12S'.\n",
    "\n",
    "If the `Sample_accessions.tsv` was pre-made, use this code to proceed:"
   ]
  },
  {
   "cell_type": "code",
   "execution_count": null,
   "metadata": {
    "collapsed": true
   },
   "outputs": [],
   "source": [
    "#%%bash\n",
    "\n",
    "#for a in $(cat ../Data/Sample_accessions.tsv | grep \"12S\" | cut -f 1 | grep \"SampleID\" -v)\n",
    "#do\n",
    "#    R1=$(ls -1 ../raw_reads/$a-12S_* | grep \"_R1.fastq\")\n",
    "#    R2=$(ls -1 ../raw_reads/$a-12S_* | grep \"_R2.fastq\")\n",
    "#\n",
    "#    echo -e \"$a\\tfastq\\t$R1\\t$R2\"\n",
    "#done > Querymap.txt"
   ]
  },
  {
   "cell_type": "code",
   "execution_count": null,
   "metadata": {
    "collapsed": false
   },
   "outputs": [],
   "source": [
    "#!head -n 10 Querymap.txt"
   ]
  },
  {
   "cell_type": "markdown",
   "metadata": {},
   "source": [
    "**OR...**\n",
    "\n",
    "To make the `Sample_accessions.tsv` file, use:"
   ]
  },
  {
   "cell_type": "code",
   "execution_count": null,
   "metadata": {
    "collapsed": true
   },
   "outputs": [],
   "source": [
    "!echo \"SampleID\" > ../1-trimming/Sample_accessions.tsv"
   ]
  },
  {
   "cell_type": "code",
   "execution_count": null,
   "metadata": {
    "collapsed": false
   },
   "outputs": [],
   "source": [
    "%%bash\n",
    "for a in $(ls ../raw_reads/ | grep \"R1\" | cut -d '.' -f 1)\n",
    "do \n",
    "   SampleID=$a\n",
    "   \n",
    "   echo -e \"$SampleID\"\n",
    "done >> ../1-trimming/Sample_accessions.tsv"
   ]
  },
  {
   "cell_type": "code",
   "execution_count": null,
   "metadata": {
    "collapsed": false
   },
   "outputs": [],
   "source": [
    "!cat ../1-trimming/Sample_accessions.tsv"
   ]
  },
  {
   "cell_type": "code",
   "execution_count": null,
   "metadata": {
    "collapsed": true
   },
   "outputs": [],
   "source": [
    "%%bash\n",
    "\n",
    "for a in $(cat ../1-trimming/Sample_accessions.tsv | grep \"SampleID\" -v)\n",
    "do\n",
    "    R1=$(ls -1 ../raw_reads/$a.* | grep -w \"R1\")\n",
    "    R2=$(ls -1  ../raw_reads/$a.* | grep -w \"R2\")\n",
    "\n",
    "    echo -e \"$a\\tfastq\\t$R1\\t$R2\"\n",
    "done > Querymap.txt"
   ]
  },
  {
   "cell_type": "code",
   "execution_count": null,
   "metadata": {
    "collapsed": false
   },
   "outputs": [],
   "source": [
    "!head -n 10 Querymap.txt"
   ]
  },
  {
   "cell_type": "markdown",
   "metadata": {},
   "source": [
    "To the `Querymap.txt` file, add two columns which specify the number of bases to remove from the forward and reverse read. In our case, we want to remove 18 bp to ensure that there is no forward or reverse primer left."
   ]
  },
  {
   "cell_type": "code",
   "execution_count": null,
   "metadata": {
    "collapsed": false
   },
   "outputs": [],
   "source": [
    "%%bash\n",
    "\n",
    "sed 's/$/&\\t18/' Querymap.txt > Querymap_new.txt"
   ]
  },
  {
   "cell_type": "markdown",
   "metadata": {},
   "source": [
    "Have a look (note that the output is probably line-wrapped):"
   ]
  },
  {
   "cell_type": "code",
   "execution_count": null,
   "metadata": {
    "collapsed": false
   },
   "outputs": [],
   "source": [
    "!head -n 4 Querymap_new.txt"
   ]
  },
  {
   "cell_type": "code",
   "execution_count": null,
   "metadata": {
    "collapsed": true
   },
   "outputs": [],
   "source": [
    "%%bash\n",
    "\n",
    "sed 's/$/&\\t18/' Querymap_new.txt > Querymap_final.txt"
   ]
  },
  {
   "cell_type": "code",
   "execution_count": null,
   "metadata": {
    "collapsed": false
   },
   "outputs": [],
   "source": [
    "!head -n 4 Querymap_final.txt"
   ]
  },
  {
   "cell_type": "markdown",
   "metadata": {},
   "source": [
    "# Raw read processing"
   ]
  },
  {
   "cell_type": "markdown",
   "metadata": {},
   "source": [
    "Now, perform basic quality trimming and clipping (Trimmomatic) and paired-end read merging (flash). metaBEAT will be used to process all samples in one go."
   ]
  },
  {
   "cell_type": "code",
   "execution_count": null,
   "metadata": {
    "collapsed": false
   },
   "outputs": [],
   "source": [
    "!metaBEAT_global.py -h"
   ]
  },
  {
   "cell_type": "markdown",
   "metadata": {},
   "source": [
    "Command to trim:"
   ]
  },
  {
   "cell_type": "code",
   "execution_count": null,
   "metadata": {
    "collapsed": true
   },
   "outputs": [],
   "source": [
    "%%bash\n",
    "\n",
    "metaBEAT_global.py \\\n",
    "-Q Querymap_final.txt \\\n",
    "--trim_qual 30 --read_crop 110 --trim_minlength 90 \\\n",
    "--merge --product_length 110 --forward_only --length_filter 100 \\\n",
    "-@ lynsey.harper2@gmail.com \\\n",
    "-n 5 -v &> log_trimming "
   ]
  },
  {
   "cell_type": "markdown",
   "metadata": {},
   "source": [
    "Read processing will take several hours.\n",
    "\n",
    "\n",
    "# Visualise query survival after trimming\n",
    "\n",
    "metaBEAT will generate a directory with all temporary files that were created during the processing for each sample and will record useful stats summarizing the data processing in the file `metaBEAT_read_stats.csv`. You can explore the table manually or quickly plot out some of these stats here:"
   ]
  },
  {
   "cell_type": "code",
   "execution_count": null,
   "metadata": {
    "collapsed": false
   },
   "outputs": [],
   "source": [
    "%matplotlib inline\n",
    "import pandas as pd\n",
    "\n",
    "df = pd.read_csv('metaBEAT_read_stats.csv',index_col=0)\n",
    "df['fraction'] = df['queries']/(df['total']*0.5)\n",
    "df.fraction.hist(bins=50)"
   ]
  },
  {
   "cell_type": "markdown",
   "metadata": {},
   "source": [
    "Detailed information on what metaBEAT did to each sample is contained in the `log` file. It contains the exact commands that were run for each sample during each step of the process."
   ]
  },
  {
   "cell_type": "code",
   "execution_count": null,
   "metadata": {
    "collapsed": false
   },
   "outputs": [],
   "source": [
    "!head -n 50 log_trimming"
   ]
  },
  {
   "cell_type": "code",
   "execution_count": null,
   "metadata": {
    "collapsed": false
   },
   "outputs": [],
   "source": [
    "!tail -50 log_trimming"
   ]
  },
  {
   "cell_type": "markdown",
   "metadata": {},
   "source": [
    "The next steps in the processing will be chimera detection, and global clustering of the centroids from all clusters from all samples to produce denovo OTUs. The temporary files from the global clustering and the final OTU table were written to the directory `./GLOBAL`."
   ]
  },
  {
   "cell_type": "code",
   "execution_count": null,
   "metadata": {
    "collapsed": false
   },
   "outputs": [],
   "source": [
    "!ls GLOBAL/"
   ]
  },
  {
   "cell_type": "markdown",
   "metadata": {},
   "source": [
    "The denovo OTU table (numbers are reads) can be viewed to see how OTUs are distributed across your samples. "
   ]
  },
  {
   "cell_type": "markdown",
   "metadata": {},
   "source": [
    "# Chimera detection"
   ]
  },
  {
   "cell_type": "markdown",
   "metadata": {},
   "source": [
    "Some stats on the read counts before/after trimming, merging etc. are summarized for you in `metaBEAT_read_stats.csv`.\n",
    "\n",
    "Next stage of the processing is chimera detection and removal of putative chimeric sequences. We'll do that using uchime as implemented in vsearch."
   ]
  },
  {
   "cell_type": "code",
   "execution_count": null,
   "metadata": {
    "collapsed": false
   },
   "outputs": [],
   "source": [
    "!pwd"
   ]
  },
  {
   "cell_type": "code",
   "execution_count": null,
   "metadata": {
    "collapsed": false
   },
   "outputs": [],
   "source": [
    "cd ../"
   ]
  },
  {
   "cell_type": "code",
   "execution_count": null,
   "metadata": {
    "collapsed": true
   },
   "outputs": [],
   "source": [
    "!mkdir 2-chimera_detection"
   ]
  },
  {
   "cell_type": "code",
   "execution_count": null,
   "metadata": {
    "collapsed": false
   },
   "outputs": [],
   "source": [
    "cd 2-chimera_detection"
   ]
  },
  {
   "cell_type": "markdown",
   "metadata": {},
   "source": [
    "Convert reference database from GenBank to fasta format to be used in chimera detection.\n",
    "\n",
    "Prepare `REFmap.txt` file, i.e. text file that specifies the location and the format of the reference to be used.\n",
    "The reference sequences in GenBank format are present in subdirectories for each vertebrate group in the `../Reference_database` directory."
   ]
  },
  {
   "cell_type": "code",
   "execution_count": null,
   "metadata": {
    "collapsed": true
   },
   "outputs": [],
   "source": [
    "!echo '../Reference_database/12S_Fish_SATIVA_cleaned_May_2017.gb\\tgb\\n' \\\n",
    "'../Reference_database/12S_UKamphibians_SATIVA_cleaned.gb\\tgb\\n' \\\n",
    "'../Reference_database/12S_UKreptiles_SATIVA_cleaned.gb\\tgb\\n' \\\n",
    "'../Reference_database/12S_UKbirds_SATIVA_cleaned.gb\\tgb\\n' \\\n",
    "'../Reference_database/12S_UKmammals_SATIVA_cleaned_June_2018.gb\\tgb\\n' \\\n",
    "'../Reference_database/M.zebra.gb\\tgb' > REFmap.txt"
   ]
  },
  {
   "cell_type": "code",
   "execution_count": null,
   "metadata": {
    "collapsed": false
   },
   "outputs": [],
   "source": [
    "!cat REFmap.txt"
   ]
  },
  {
   "cell_type": "code",
   "execution_count": null,
   "metadata": {
    "collapsed": false
   },
   "outputs": [],
   "source": [
    "!metaBEAT_global.py -h"
   ]
  },
  {
   "cell_type": "code",
   "execution_count": null,
   "metadata": {
    "collapsed": false,
    "scrolled": true
   },
   "outputs": [],
   "source": [
    "%%bash\n",
    "\n",
    "metaBEAT_global.py \\\n",
    "-R REFmap.txt \\\n",
    "-f \\\n",
    "-@ lynsey.harper2@gmail.com"
   ]
  },
  {
   "cell_type": "markdown",
   "metadata": {},
   "source": [
    "This will produce `refs.fasta`."
   ]
  },
  {
   "cell_type": "code",
   "execution_count": null,
   "metadata": {
    "collapsed": false,
    "scrolled": true
   },
   "outputs": [],
   "source": [
    "!head refs.fasta"
   ]
  },
  {
   "cell_type": "markdown",
   "metadata": {},
   "source": [
    "Now run chimera detection."
   ]
  },
  {
   "cell_type": "code",
   "execution_count": null,
   "metadata": {
    "collapsed": false
   },
   "outputs": [],
   "source": [
    "%%bash\n",
    "\n",
    "\n",
    "for a in $(cut -f 1 ../1-trimming/Querymap.txt)\n",
    "do\n",
    "    if [ -s ../1-trimming/$a/$a\\_trimmed.fasta ]\n",
    "    then\n",
    "        echo -e \"\\n### Detecting chimeras in $a ###\\n\"\n",
    "        mkdir $a\n",
    "        cd $a\n",
    "        vsearch --uchime_ref ../../1-trimming/$a/$a\\_trimmed.fasta --db ../refs.fasta \\\n",
    "        --nonchimeras $a-nonchimeras.fasta --chimeras $a-chimeras.fasta &> log \n",
    "        cd ..\n",
    "\n",
    "    else\n",
    "        echo -e \"$a is empty\"\n",
    "    fi\n",
    "done"
   ]
  },
  {
   "cell_type": "markdown",
   "metadata": {},
   "source": [
    "# Clustering and taxonomic assignment"
   ]
  },
  {
   "cell_type": "code",
   "execution_count": null,
   "metadata": {
    "collapsed": false
   },
   "outputs": [],
   "source": [
    "!pwd"
   ]
  },
  {
   "cell_type": "code",
   "execution_count": null,
   "metadata": {
    "collapsed": false
   },
   "outputs": [],
   "source": [
    "cd .."
   ]
  },
  {
   "cell_type": "code",
   "execution_count": null,
   "metadata": {
    "collapsed": true
   },
   "outputs": [],
   "source": [
    "!mkdir 3-taxonomic_assignment"
   ]
  },
  {
   "cell_type": "code",
   "execution_count": null,
   "metadata": {
    "collapsed": false
   },
   "outputs": [],
   "source": [
    "cd 3-taxonomic_assignment/"
   ]
  },
  {
   "cell_type": "markdown",
   "metadata": {},
   "source": [
    "Produce the text file containing the reference sequences using the command line - we call it `REFmap.txt`."
   ]
  },
  {
   "cell_type": "code",
   "execution_count": null,
   "metadata": {
    "collapsed": true
   },
   "outputs": [],
   "source": [
    "!echo '../Reference_database/12S_UKamphibians_SATIVA_cleaned.gb\\tgb\\n' \\\n",
    "'../Reference_database/12S_UKreptiles_SATIVA_cleaned.gb\\tgb\\n' \\\n",
    "'../Reference_database/12S_Fish_SATIVA_cleaned_May_2017.gb\\tgb\\n' \\\n",
    "'../Reference_database/12S_UKbirds_SATIVA_cleaned.gb\\tgb\\n' \\\n",
    "'../Reference_database/12S_UKmammals_SATIVA_cleaned_June_2018.gb\\tgb\\n' \\\n",
    "'../Reference_database/M.zebra.gb\\tgb'> REFmap.txt"
   ]
  },
  {
   "cell_type": "code",
   "execution_count": null,
   "metadata": {
    "collapsed": false
   },
   "outputs": [],
   "source": [
    "!cat REFmap.txt"
   ]
  },
  {
   "cell_type": "markdown",
   "metadata": {},
   "source": [
    "Produce the text file containing non-chimera query sequences - `Querymap.txt`."
   ]
  },
  {
   "cell_type": "code",
   "execution_count": null,
   "metadata": {
    "collapsed": true
   },
   "outputs": [],
   "source": [
    "%%bash\n",
    "\n",
    "#Querymap\n",
    "for a in $(ls -l ../2-chimera_detection/ | grep \"^d\" | perl -ne 'chomp; @a=split(\" \"); print \"$a[-1]\\n\"')\n",
    "do\n",
    "    echo -e \"$a-nc\\tfasta\\t../2-chimera_detection/$a/$a-nonchimeras.fasta\"\n",
    "done > Querymap.txt"
   ]
  },
  {
   "cell_type": "code",
   "execution_count": null,
   "metadata": {
    "collapsed": false
   },
   "outputs": [],
   "source": [
    "!cat Querymap.txt"
   ]
  },
  {
   "cell_type": "markdown",
   "metadata": {},
   "source": [
    "The Querymap.txt file has been made but includes the `./GLOBAL` directory in which all centroids and queries are contained. This will cause metaBEAT to fail so it must be removed manually from the `Querymap.txt` file."
   ]
  },
  {
   "cell_type": "code",
   "execution_count": null,
   "metadata": {
    "collapsed": true
   },
   "outputs": [],
   "source": [
    "!sed '/GLOBAL/d' Querymap.txt > Querymap_final.txt"
   ]
  },
  {
   "cell_type": "code",
   "execution_count": null,
   "metadata": {
    "collapsed": false
   },
   "outputs": [],
   "source": [
    "!cat Querymap_final.txt"
   ]
  },
  {
   "cell_type": "markdown",
   "metadata": {},
   "source": [
    "The metaBEAT image comes prepared with a database that contains taxonomic information for taxids. However, NCBI taxonomy is constantly changing thus the current database may not be compatible with code for these analyses. In this scenario, the taxonomy database (`/usr/bin/taxonomy.db`) contained in the image must be set to the last stable version of the NCBI taxonomy (October 2018). \n",
    "\n",
    "If the below command gives you errors about certain taxids or other objects not being found in the database, you can try to reset the database using the code below. This will take a few minutes, depending on your internet connection."
   ]
  },
  {
   "cell_type": "code",
   "execution_count": null,
   "metadata": {
    "collapsed": true
   },
   "outputs": [],
   "source": [
    "!taxit new_database \\\n",
    "--taxdump-url ftp://ftp.ncbi.nlm.nih.gov/pub/taxonomy/taxdump_archive/taxdmp_2018-10-01.zip \\\n",
    "    --download-dir /usr/bin/ /usr/bin/taxonomy.db"
   ]
  },
  {
   "cell_type": "markdown",
   "metadata": {},
   "source": [
    "The command below will update the metaBEAT_global.py script locally so that it accepts records from the most common public sequence databases."
   ]
  },
  {
   "cell_type": "code",
   "execution_count": null,
   "metadata": {
    "collapsed": true
   },
   "outputs": [],
   "source": [
    "!sed -i \"s/for tag in \\['gb','dbj']/for tag in \\['gb','dbj','emb','pdb','ref']/g\" /usr/bin/metaBEAT_global.py"
   ]
  },
  {
   "cell_type": "markdown",
   "metadata": {},
   "source": [
    "That's almost it. Now start the pipeline to do sequence clustering and taxonomic assignment of non-chimera queries via metaBEAT. As input, `Querymap.txt` containing samples that have been trimmed, merged and checked for chimeras, and the `REFmap.txt` files must be specified. metaBEAT will be asked to attempt taxonomic assignment using BLAST.\n",
    "\n",
    "metaBEAT will automatically wrangle the data into the particular file formats that are required by each of the methods, run all necessary steps, and finally convert the outputs of each program to a standardized BIOM table.\n",
    "\n",
    "GO!"
   ]
  },
  {
   "cell_type": "code",
   "execution_count": null,
   "metadata": {
    "collapsed": false
   },
   "outputs": [],
   "source": [
    "!metaBEAT_global.py -h"
   ]
  },
  {
   "cell_type": "code",
   "execution_count": null,
   "metadata": {
    "collapsed": true
   },
   "outputs": [],
   "source": [
    "%%bash\n",
    "\n",
    "metaBEAT_global.py \\\n",
    "-Q Querymap_final.txt \\\n",
    "-R REFmap.txt \\\n",
    "--cluster --clust_match 1 --clust_cov 3 \\\n",
    "--blast --min_ident 0.98 --min_ali_length 0.8 \\\n",
    "-m 12S -n 5 \\\n",
    "-E -v \\\n",
    "-@ lynsey.harper2@gmail.com \\\n",
    "-o 12S-trim30_crop110_min90_merge-forwonly_nonchimera_c1cov3_blast98-id1 &> log98"
   ]
  },
  {
   "cell_type": "code",
   "execution_count": null,
   "metadata": {
    "collapsed": false
   },
   "outputs": [],
   "source": [
    "!tail -n 50 log98"
   ]
  },
  {
   "cell_type": "markdown",
   "metadata": {},
   "source": [
    "# Unassigned BLAST"
   ]
  },
  {
   "cell_type": "markdown",
   "metadata": {},
   "source": [
    "It is important to know the identity of unassigned reads for contamination or reference database ambiguities. This code will BLAST unassigned reads against the entirety of GenBank.\n",
    "\n",
    "Based on the results of the 98% BLAST identity metaBEAT run, a new BIOM table containing only OTUs that were not taxonomically assigned is generated. A fasta file with the corresponding sequences is also prepared.\n",
    "\n",
    "Required files:\n",
    "\n",
    "fasta file containing all query sequences (global centroids), as produced by 98% identity metaBEAT run\n",
    "\n",
    "taxonomy annotated OTU biom table in json format from a metaBEAT run. Not the taxonomy collapsed BIOM table.\n",
    "\n",
    "Load the necessary functions. Functions are in place as of version '0.97.4-global' (commit: 9110e5a3f4a979e85733f83cb0388b00586544f6)."
   ]
  },
  {
   "cell_type": "code",
   "execution_count": null,
   "metadata": {
    "collapsed": false
   },
   "outputs": [],
   "source": [
    "!pwd"
   ]
  },
  {
   "cell_type": "code",
   "execution_count": null,
   "metadata": {
    "collapsed": false
   },
   "outputs": [],
   "source": [
    "cd .."
   ]
  },
  {
   "cell_type": "code",
   "execution_count": null,
   "metadata": {
    "collapsed": true
   },
   "outputs": [],
   "source": [
    "!mkdir 4-unassigned"
   ]
  },
  {
   "cell_type": "code",
   "execution_count": null,
   "metadata": {
    "collapsed": false
   },
   "outputs": [],
   "source": [
    "cd 4-unassigned/"
   ]
  },
  {
   "cell_type": "code",
   "execution_count": null,
   "metadata": {
    "collapsed": true
   },
   "outputs": [],
   "source": [
    "import metaBEAT_global_misc_functions as mb"
   ]
  },
  {
   "cell_type": "markdown",
   "metadata": {},
   "source": [
    "Read in `OTU-taxonomy.blast.biom` file from original metaBEAT analysis."
   ]
  },
  {
   "cell_type": "code",
   "execution_count": null,
   "metadata": {
    "collapsed": false
   },
   "outputs": [],
   "source": [
    "table = mb.load_BIOM('../3-taxonomic_assignment/GLOBAL/BLAST_0.98/12S-trim30_crop110_min90_merge-forwonly_nonchimera_c1cov3_blast98-id1-OTU-taxonomy.blast.biom', \n",
    "                     informat='json')"
   ]
  },
  {
   "cell_type": "code",
   "execution_count": null,
   "metadata": {
    "collapsed": false
   },
   "outputs": [],
   "source": [
    "# double check that we've got a table\n",
    "print table"
   ]
  },
  {
   "cell_type": "markdown",
   "metadata": {},
   "source": [
    "Extract only OTUs that were not assigned to **any** taxonomic level, i.e. true 'unassigned'."
   ]
  },
  {
   "cell_type": "code",
   "execution_count": null,
   "metadata": {
    "collapsed": false
   },
   "outputs": [],
   "source": [
    "unassigned_table = mb.BIOM_return_by_tax_level(taxlevel='unassigned', BIOM=table, invert=False)"
   ]
  },
  {
   "cell_type": "code",
   "execution_count": null,
   "metadata": {
    "collapsed": false
   },
   "outputs": [],
   "source": [
    "# check metadata in new table to see if we only got the unassigned bits\n",
    "print unassigned_table.metadata(axis='observation')"
   ]
  },
  {
   "cell_type": "code",
   "execution_count": null,
   "metadata": {
    "collapsed": false
   },
   "outputs": [],
   "source": [
    "!ls ../3-taxonomic_assignment/GLOBAL/"
   ]
  },
  {
   "cell_type": "markdown",
   "metadata": {},
   "source": [
    "Extract only sequences mentioned in the table."
   ]
  },
  {
   "cell_type": "code",
   "execution_count": null,
   "metadata": {
    "collapsed": false
   },
   "outputs": [],
   "source": [
    "mb.extract_fasta_by_BIOM_OTU_ids(in_fasta='../3-taxonomic_assignment/GLOBAL/global_queries.fasta', \n",
    "                                 BIOM=unassigned_table, \n",
    "                                 out_fasta='../3-taxonomic_assignment/GLOBAL/unassigned_only.fasta')"
   ]
  },
  {
   "cell_type": "code",
   "execution_count": null,
   "metadata": {
    "collapsed": false
   },
   "outputs": [],
   "source": [
    "!ls ../3-taxonomic_assignment/GLOBAL/"
   ]
  },
  {
   "cell_type": "code",
   "execution_count": null,
   "metadata": {
    "collapsed": true
   },
   "outputs": [],
   "source": [
    "unassigned_table_notax = mb.drop_BIOM_taxonomy(unassigned_table)"
   ]
  },
  {
   "cell_type": "code",
   "execution_count": null,
   "metadata": {
    "collapsed": false
   },
   "outputs": [],
   "source": [
    "print unassigned_table_notax.metadata(axis='observation')"
   ]
  },
  {
   "cell_type": "code",
   "execution_count": null,
   "metadata": {
    "collapsed": false
   },
   "outputs": [],
   "source": [
    "mb.write_BIOM(BIOM=unassigned_table_notax, target_prefix='../3-taxonomic_assignment/GLOBAL/unassigned_only_denovo', outfmt=['json','tsv'])"
   ]
  },
  {
   "cell_type": "code",
   "execution_count": null,
   "metadata": {
    "collapsed": false
   },
   "outputs": [],
   "source": [
    "!ls ../3-taxonomic_assignment/GLOBAL"
   ]
  },
  {
   "cell_type": "code",
   "execution_count": null,
   "metadata": {
    "collapsed": false
   },
   "outputs": [],
   "source": [
    "!mv ../3-taxonomic_assignment/GLOBAL/u* ../4-unassigned/"
   ]
  },
  {
   "cell_type": "code",
   "execution_count": null,
   "metadata": {
    "collapsed": false
   },
   "outputs": [],
   "source": [
    "!pwd"
   ]
  },
  {
   "cell_type": "code",
   "execution_count": null,
   "metadata": {
    "collapsed": false
   },
   "outputs": [],
   "source": [
    "!ls ../4-unassigned/"
   ]
  },
  {
   "cell_type": "markdown",
   "metadata": {},
   "source": [
    "When running the unassigned BLAST, metaBEAT may get stuck for a number of reasons:\n",
    "    \n",
    "- the `gb_to_taxid.csv` file may be missing taxids, in which case you have to fetch manually from GenBank\n",
    "- metaBEAT may not be able to fetch a taxid from GenBank because a record belongs to a different public database, e.g. EMBL, protein database\n",
    "- the NCBI taxonomy stored in the current metaBEAT image may be out of date"
   ]
  },
  {
   "cell_type": "markdown",
   "metadata": {},
   "source": [
    "The command below will update the `metaBEAT_global.py` script locally so that it accepts records from the most common public sequence databases."
   ]
  },
  {
   "cell_type": "code",
   "execution_count": null,
   "metadata": {
    "collapsed": false
   },
   "outputs": [],
   "source": [
    "#!sed -i \"s/for tag in \\['gb','dbj']/for tag in \\['gb','dbj','emb','pdb','ref']/g\" /usr/bin/metaBEAT_global.py"
   ]
  },
  {
   "cell_type": "markdown",
   "metadata": {},
   "source": [
    "The command below will set the NCBI taxonomy database locally in the metaBEAT image to the last stable version (October 2018)."
   ]
  },
  {
   "cell_type": "code",
   "execution_count": null,
   "metadata": {
    "collapsed": true
   },
   "outputs": [],
   "source": [
    "#!taxit new_database \\\n",
    "#--taxdump-url ftp://ftp.ncbi.nlm.nih.gov/pub/taxonomy/taxdump_archive/taxdmp_2018-10-01.zip \\\n",
    "#    --download-dir /usr/bin/ /usr/bin/taxonomy.db"
   ]
  },
  {
   "cell_type": "markdown",
   "metadata": {},
   "source": [
    "If NCBI taxonomy becomes stable again in the future, the code below can be used to update the local taxonomy database in the metaBEAT image."
   ]
  },
  {
   "cell_type": "code",
   "execution_count": null,
   "metadata": {
    "collapsed": true
   },
   "outputs": [],
   "source": [
    "# To update taxonomy database, run:\n",
    "\n",
    "# !taxit new_database /usr/bin/taxonomy.db\n",
    "\n",
    "# OR\n",
    "\n",
    "# %%bash\n",
    "# metaBEAT_global.py --update_taxonomy"
   ]
  },
  {
   "cell_type": "markdown",
   "metadata": {},
   "source": [
    "Now run metaBEAT:"
   ]
  },
  {
   "cell_type": "code",
   "execution_count": null,
   "metadata": {
    "collapsed": false
   },
   "outputs": [],
   "source": [
    "%%bash\n",
    "\n",
    "metaBEAT_global.py \\\n",
    "-B unassigned_only_denovo.biom \\\n",
    "--g_queries unassigned_only.fasta \\\n",
    "--cluster --clust_match 1 --clust_cov 3 \\\n",
    "--blast --blast_db ../../NCBI_nucleotide_Aug19/nt --min_ident 0.98 --min_ali_length 0.8 \\\n",
    "-m 12S -n 5 \\\n",
    "-E -v \\\n",
    "-@ lynsey.harper2@gmail.com \\\n",
    "-o 12S-trim30_crop110_min90_merge-forwonly_nonchimera_c1cov3_blast98_unassigned &> log_unassigned"
   ]
  },
  {
   "cell_type": "code",
   "execution_count": null,
   "metadata": {
    "collapsed": false,
    "scrolled": true
   },
   "outputs": [],
   "source": [
    "!tail -n 100 log_unassigned"
   ]
  },
  {
   "cell_type": "markdown",
   "metadata": {},
   "source": [
    "If you encounter the other problem of the `gb_to_taxid.csv` file missing taxids, follow these steps to manually add the problematic taxids:\n",
    "\n",
    "- In the log file, go to the last query metaBEAT was processing when it broke.\n",
    "- Count the number of hits that were successfully processed, the last hit is the one that broke the pipeline. For example, taxids were successfully fetched/seen before for 11 hits, it is the 12th hit that broke the pipeline.\n",
    "- Copy the name of the query.\n",
    "- In a terminal, navigate to the directory `../4-unassigned/GLOBAL/BLAST_0.98/`\n",
    "- Using vim, open the `global_blastn.out.xml` file.\n",
    "- Enter '/' and paste the name of the problematic query, then hit enter.\n",
    "- When the query is displayed, go to the hit that broke the pipeline.\n",
    "- Copy the gi number for that hit, then search NCBI nucleotide database with it in a web browser.\n",
    "- When the associated record is displayed, click on the organism for that record to go to the NCBI taxonomy page.\n",
    "- Now open the `gb_to_taxid.csv` file in the directory `../4-unassigned`, and append the gi number and taxid for the problematic hit (**NB: you may need to move the `gb_to_taxid.csv` file to a different location to edit and save changes, then move back into the directory `../4-unassigned`**).\n",
    "- Finally, in the terminal vim is open, enter ':q!' to exit without saving changes. \n",
    "\n",
    "You can now re-run metaBEAT."
   ]
  }
 ],
 "metadata": {
  "kernelspec": {
   "display_name": "Python 2",
   "language": "python",
   "name": "python2"
  },
  "language_info": {
   "codemirror_mode": {
    "name": "ipython",
    "version": 2
   },
   "file_extension": ".py",
   "mimetype": "text/x-python",
   "name": "python",
   "nbconvert_exporter": "python",
   "pygments_lexer": "ipython2",
   "version": "2.7.6"
  }
 },
 "nbformat": 4,
 "nbformat_minor": 0
}
